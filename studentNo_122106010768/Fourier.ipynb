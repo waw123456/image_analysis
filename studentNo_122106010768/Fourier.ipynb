{
 "cells": [
  {
   "cell_type": "code",
   "execution_count": 18,
   "metadata": {
    "collapsed": true
   },
   "outputs": [
    {
     "name": "stdout",
     "output_type": "stream",
     "text": [
      "(32, 32)\n"
     ]
    },
    {
     "data": {
      "text/plain": "<Figure size 1100x1100 with 3 Axes>",
      "image/png": "[encoded data removed]"
     },
     "metadata": {},
     "output_type": "display_data"
    }
   ],
   "source": [
    "#  姓名：王安文\n",
    "#  学号：122106010768\n",
    "#  作业名：逆傅里叶变换的实现\n",
    "#  课程：图像分析基础\n",
    "#  作业实现内容：实现三种逆傅里叶变换 比较它们的区别\n",
    "\n",
    "from PIL import Image\n",
    "import matplotlib.pyplot as plt\n",
    "import numpy as np\n",
    "# 傅里叶变换\n",
    "def my_dft(img_array):\n",
    "    height = img_array.shape[0]\n",
    "    width = img_array.shape[1]\n",
    "    # 复数的数组用来储存结果\n",
    "    result_complex = np.zeros([height, width], np.complex64)\n",
    "    # 遍历每一个像素\n",
    "    j = complex(0, -1)\n",
    "    for u in range(height):\n",
    "        for v in range(width):\n",
    "            for x in range(height):\n",
    "                for y in range(width):\n",
    "                    result_complex[u, v] += img_array[x, y] * np.exp(j * 2 * np.pi * (u * x / height + v * y / width))\n",
    "\n",
    "    # 返回结果\n",
    "    return result_complex\n",
    "\n",
    "# 原始的逆傅里叶变化\n",
    "def my_idft(img_array):\n",
    "    # 数组的高度和宽度\n",
    "    height = img_array.shape[0]\n",
    "    width = img_array.shape[1]\n",
    "\n",
    "    # 创建两个数组，复数的数组用来储存中间结果，浮点数的数组用来计算振幅\n",
    "    result_complex = np.zeros([height, width], np.complex64)\n",
    "    result = np.zeros([height, width], np.float64)\n",
    "\n",
    "    # 遍历每一个像素，先计算复数结果，再对其求振幅\n",
    "    # 逆变换与正变换的不同之一在于复数的符号\n",
    "    j = complex(0, 1)\n",
    "    for u in range(height):\n",
    "        for v in range(width):\n",
    "            for x in range(height):\n",
    "                for y in range(width):\n",
    "                    result_complex[u, v] +=  img_array[x, y] * np.exp(j * 2 * np.pi * (u * x / height + v * y / width))\n",
    "\n",
    "            result[u, v] = np.abs(result_complex[u, v] / (height * width))\n",
    "\n",
    "    # 返回结果\n",
    "    return result\n",
    "\n",
    "if __name__ == \"__main__\":\n",
    "    img = Image.open(\"cool.bmp\")\n",
    "    img = img.convert('L')\n",
    "    img = img.resize((32,32))\n",
    "    img_array = np.array(img)\n",
    "\n",
    "    mydft = my_dft(img_array) # 傅里叶变换\n",
    "    mydft_abs = np.abs(mydft)  # 因为返回值为复数所以需要取振幅\n",
    "    center = np.fft.fftshift(mydft_abs)  # 把结果移到中间\n",
    "\n",
    "    myidft = my_idft(mydft)  # 傅里叶逆变换复原图像\n",
    "\n",
    "    plt.figure(figsize=(11,11))\n",
    "    plt.subplot(131), plt.imshow(img_array,cmap='gray'),\n",
    "    plt.title('original_img'), plt.axis('off')\n",
    "    plt.subplot(132), plt.imshow(center, cmap='gray'),\n",
    "    plt.title('dft'), plt.axis('off')\n",
    "    plt.subplot(133), plt.imshow(myidft, cmap='gray'),\n",
    "    plt.title('idft'), plt.axis('off')\n",
    "\n",
    "\n",
    "\n",
    "\n",
    "\n",
    "\n"
   ]
  },
  {
   "cell_type": "code",
   "execution_count": 1,
   "outputs": [],
   "source": [],
   "metadata": {
    "collapsed": false
   }
  }
 ],
 "metadata": {
  "kernelspec": {
   "display_name": "Python 3",
   "language": "python",
   "name": "python3"
  },
  "language_info": {
   "codemirror_mode": {
    "name": "ipython",
    "version": 2
   },
   "file_extension": ".py",
   "mimetype": "text/x-python",
   "name": "python",
   "nbconvert_exporter": "python",
   "pygments_lexer": "ipython2",
   "version": "2.7.6"
  }
 },
 "nbformat": 4,
 "nbformat_minor": 0
}
