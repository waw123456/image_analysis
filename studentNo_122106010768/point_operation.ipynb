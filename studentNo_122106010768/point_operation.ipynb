{
 "cells": [
  {
   "cell_type": "code",
   "execution_count": null,
   "metadata": {
    "collapsed": true
   },
   "outputs": [],
   "source": []
  },
  {
   "cell_type": "code",
   "execution_count": null,
   "outputs": [],
   "source": [
    "#  姓名：王安文\n",
    "#  学号：122106010768\n",
    "#  作业名：点运算实验\n",
    "#  课程：图像分析基础\n",
    "#  作业实现内容：线性点运算 + 分段线性点运算 + 非线性点运算\n",
    "import numpy as np\n",
    "import cv2\n",
    "import sys\n",
    "\n",
    "\n",
    "# 线性点运算实现灰度反转  s = 255-r\n",
    "def linear_point(img):\n",
    "    height = img.shape[0]\n",
    "    width = img.shape[1]\n",
    "    result = np.zeros((height, width), np.uint8)\n",
    "    for i in range(height):\n",
    "        for j in range(width):\n",
    "            gray = -(img[i, j])+255\n",
    "            result[i, j] = np.uint8(gray)\n",
    "    return result\n",
    "\n",
    "# 分段线性点运算实现\n",
    "# <=80灰度值,灰度扩展，S1 = 2*r+60; >80灰度值，灰度压缩，S2 =  0.2*r\n",
    "def piece_wise_linear(img):\n",
    "    height = img.shape[0]\n",
    "    width = img.shape[1]\n",
    "    result = np.zeros((height, width), np.uint8)\n",
    "    for i in range(height):\n",
    "        for j in range(width):\n",
    "            if img[i, j] <= 80:\n",
    "                result[i, j] = 2*img[i, j]+60\n",
    "            else:\n",
    "                result[i, j] = 0.2*img[i, j]\n",
    "    return result\n",
    "\n",
    "# 非线性点运算实现幂次变换  r=0.5 c=1\n",
    "def non_linear_point(img):\n",
    "    result = img ** 0.5\n",
    "    result = np.uint8(result * 255 / np.max(result))\n",
    "    return result\n",
    "\n",
    "if __name__ == \"__main__\":\n",
    "    # ------------调用三种点运算函数查看结果---------------#\n",
    "    img_in = cv2.imread(\"cat.jpg\", 0)\n",
    "    linear_point_img = linear_point(img_in)\n",
    "    piece_wise_linear_img = piece_wise_linear(img_in)\n",
    "    non_linear_point_img = non_linear_point(img_in)\n",
    "\n",
    "    cv2.namedWindow(\"线性点运算\", 0)\n",
    "    cv2.namedWindow(\"分段线性\", 0)\n",
    "    cv2.namedWindow(\"非线性\", 0)\n",
    "\n",
    "    cv2.resizeWindow(\"线性点运算\", 500, 400)\n",
    "    cv2.resizeWindow(\"分段线性\", 500, 400)\n",
    "    cv2.resizeWindow(\"非线性\", 500, 400)\n",
    "\n",
    "    cv2.imshow(\"线性点运算\", linear_point_img)\n",
    "    cv2.imshow(\"分段线性\", piece_wise_linear_img)\n",
    "    cv2.imshow(\"非线性\", non_linear_point_img)\n",
    "    cv2.waitKey(0)\n",
    "    cv2.destroyAllWindows()\n",
    "\n",
    "\n",
    "\n",
    "\n",
    "\n",
    "\n",
    "\n",
    "\n",
    "\n",
    "\n",
    "\n",
    "\n"
   ],
   "metadata": {
    "collapsed": false,
    "pycharm": {
     "is_executing": true
    }
   }
  }
 ],
 "metadata": {
  "kernelspec": {
   "display_name": "Python 3",
   "language": "python",
   "name": "python3"
  },
  "language_info": {
   "codemirror_mode": {
    "name": "ipython",
    "version": 2
   },
   "file_extension": ".py",
   "mimetype": "text/x-python",
   "name": "python",
   "nbconvert_exporter": "python",
   "pygments_lexer": "ipython2",
   "version": "2.7.6"
  }
 },
 "nbformat": 4,
 "nbformat_minor": 0
}
